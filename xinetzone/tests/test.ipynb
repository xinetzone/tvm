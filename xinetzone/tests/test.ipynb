{
 "cells": [
  {
   "cell_type": "markdown",
   "metadata": {},
   "source": [
    "# 测试"
   ]
  },
  {
   "cell_type": "code",
   "execution_count": 1,
   "metadata": {},
   "outputs": [],
   "source": [
    "from testing.test_forward import list_ops, load_torchvision"
   ]
  },
  {
   "cell_type": "code",
   "execution_count": 1,
   "metadata": {},
   "outputs": [],
   "source": [
    "import tvm"
   ]
  },
  {
   "cell_type": "code",
   "execution_count": null,
   "metadata": {},
   "outputs": [],
   "source": [
    "def verify_model_with_input(\n",
    "    test_func,\n",
    "    input_data,\n",
    "    *,\n",
    "    input_dict=None,\n",
    "    custom_convert_map=None,\n",
    "    rtol=1e-5,\n",
    "    atol=1e-5,\n",
    "    assert_shape_only=False,\n",
    "    validate_structural_equal=True,\n",
    "):\n",
    "    \"\"\"Generic function to generate and compare Pytorch and TVM output\"\"\"\n",
    "    input_dict = input_dict or {}\n",
    "    custom_convert_map = custom_convert_map or {}\n",
    "    baseline_outputs = test_func(*input_data)\n",
    "    trace = torch.jit.trace(test_func, [input.clone() for input in input_data])\n",
    "    input_names = [f\"input{idx}\" for idx, _ in enumerate(input_data)]\n",
    "    input_shapes = list(zip(input_names, [inp.shape for inp in input_data]))\n",
    "    with tvm.testing.disable_span_filling():\n",
    "        mod, params = relay.frontend.from_pytorch(trace, input_shapes, custom_convert_map)\n",
    "    if validate_structural_equal:\n",
    "        with tvm.testing.enable_span_filling():\n",
    "            mod_with_span, _ = relay.frontend.from_pytorch(trace, input_shapes, custom_convert_map)\n",
    "        assert tvm.ir.structural_equal(mod, mod_with_span, map_free_vars=True)\n",
    "\n",
    "    with tvm.transform.PassContext(opt_level=3):\n",
    "        for target in [\"llvm\", \"cuda\"]:\n",
    "            if not tvm.runtime.enabled(target):\n",
    "                continue\n",
    "            dev = tvm.device(target, 0)\n",
    "            lib = relay.build(mod, target=target, params=params)\n",
    "            relay_model = graph_executor.GraphModule(lib[\"default\"](dev))\n",
    "            for name, value in input_dict.items():\n",
    "                relay_model.set_input(name, value)\n",
    "            relay_model.run()\n",
    "\n",
    "            compiled_output = relay_model.get_output(0).numpy()\n",
    "            assert_shapes_match(baseline_outputs, compiled_output)\n",
    "            if assert_shape_only is False:\n",
    "                tvm.testing.assert_allclose(baseline_outputs, compiled_output, rtol=rtol, atol=atol)"
   ]
  }
 ],
 "metadata": {
  "kernelspec": {
   "display_name": "tvmz",
   "language": "python",
   "name": "python3"
  },
  "language_info": {
   "codemirror_mode": {
    "name": "ipython",
    "version": 3
   },
   "file_extension": ".py",
   "mimetype": "text/x-python",
   "name": "python",
   "nbconvert_exporter": "python",
   "pygments_lexer": "ipython3",
   "version": "3.10.11"
  },
  "orig_nbformat": 4
 },
 "nbformat": 4,
 "nbformat_minor": 2
}
