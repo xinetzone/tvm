{
 "cells": [
  {
   "cell_type": "code",
   "execution_count": 1,
   "metadata": {},
   "outputs": [],
   "source": [
    "import numpy as np\n",
    "import tvm\n",
    "from tvm import te\n",
    "from tvm import relay\n",
    "from tvm.relay.testing import run_as_python\n",
    "from tvm.relay.prelude import Prelude\n",
    "from tvm.runtime.container import ADT\n",
    "from tvm.relay.backend.interpreter import RefValue, ConstructorValue"
   ]
  },
  {
   "cell_type": "code",
   "execution_count": 2,
   "metadata": {},
   "outputs": [],
   "source": [
    "def seq(*exprs):\n",
    "    \"\"\"helper: uses a dummy let binding to sequence a list\n",
    "       of expressions: expr1; expr2; expr3, etc.\n",
    "    \"\"\"\n",
    "    ret = exprs[0]\n",
    "    for expr in exprs[1:]:\n",
    "        ret = relay.Let(relay.var(\"_\"), ret, expr)\n",
    "    return ret\n",
    "\n",
    "def init_box_adt(mod):\n",
    "    \"\"\"creates a dummy ADT for testing\"\"\"\n",
    "    box = relay.GlobalTypeVar(\"box\")\n",
    "    a = relay.TypeVar(\"a\")\n",
    "    box_ctor = relay.Constructor(\"box\", [a], box)\n",
    "    mod[box] = relay.TypeData(box, [a], [box_ctor])\n",
    "    return (box, box_ctor)\n",
    "\n",
    "# assert that the candidate is a NDArray with value val\n",
    "def assert_tensor_value(candidate, val):\n",
    "    assert isinstance(candidate, tvm.nd.NDArray)\n",
    "    assert np.array_equal(candidate.numpy(), np.array(val))\n",
    "\n",
    "\n",
    "# assert that the candidate is an ADT with the indicated number of fields\n",
    "def assert_adt_len(candidate, fields):\n",
    "    assert isinstance(candidate, ADT)\n",
    "    assert len(candidate) == fields\n",
    "\n",
    "\n",
    "# assert that the candidate is a ConstructorValue with the approrpaite constructor\n",
    "# and number of fields\n",
    "def assert_constructor_value(candidate, constructor, fields):\n",
    "    assert isinstance(candidate, ConstructorValue)\n",
    "    assert candidate.tag == constructor.tag\n",
    "    assert len(candidate.fields) == fields"
   ]
  },
  {
   "cell_type": "code",
   "execution_count": 3,
   "metadata": {},
   "outputs": [],
   "source": [
    "empty = relay.Tuple([])\n",
    "tup_val = run_as_python(empty)\n",
    "assert_adt_len(tup_val, 0)"
   ]
  },
  {
   "cell_type": "code",
   "execution_count": 4,
   "metadata": {},
   "outputs": [],
   "source": [
    "scalar = relay.const(1)\n",
    "tensor_val = run_as_python(scalar)\n",
    "assert_tensor_value(tensor_val, 1)"
   ]
  },
  {
   "cell_type": "code",
   "execution_count": 5,
   "metadata": {},
   "outputs": [
    {
     "data": {
      "text/plain": [
       "tvm.runtime.container.ADT"
      ]
     },
     "execution_count": 5,
     "metadata": {},
     "output_type": "execute_result"
    }
   ],
   "source": [
    "type(tup_val)"
   ]
  },
  {
   "cell_type": "code",
   "execution_count": 6,
   "metadata": {},
   "outputs": [],
   "source": [
    "import numpy as np\n",
    "import tvm\n",
    "from tvm.ir.module import IRModule\n",
    "from tvm.script import tir as T"
   ]
  },
  {
   "cell_type": "code",
   "execution_count": null,
   "metadata": {},
   "outputs": [],
   "source": []
  }
 ],
 "metadata": {
  "kernelspec": {
   "display_name": "aix",
   "language": "python",
   "name": "python3"
  },
  "language_info": {
   "codemirror_mode": {
    "name": "ipython",
    "version": 3
   },
   "file_extension": ".py",
   "mimetype": "text/x-python",
   "name": "python",
   "nbconvert_exporter": "python",
   "pygments_lexer": "ipython3",
   "version": "3.10.11"
  },
  "orig_nbformat": 4,
  "vscode": {
   "interpreter": {
    "hash": "49f882f3ac989e3189e17f306b7ee70f46bd0d2524621d6bd2a05520604c164d"
   }
  }
 },
 "nbformat": 4,
 "nbformat_minor": 2
}
